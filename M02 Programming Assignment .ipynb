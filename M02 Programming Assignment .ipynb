{
 "cells": [
  {
   "cell_type": "markdown",
   "id": "4b6476dd",
   "metadata": {},
   "source": [
    "4.1 Choose a number between 1 and 10 and assign it to the variable secret. Then, select another number between 1 and 10 and assign it to the variable guess. Next, write the conditional tests (if, else, and elif) to print the string 'too low' if guess is less than secret, 'too high' if greater than secret, and 'just right' if equal to secret."
   ]
  },
  {
   "cell_type": "code",
   "execution_count": 6,
   "id": "e6915ed8",
   "metadata": {},
   "outputs": [
    {
     "name": "stdout",
     "output_type": "stream",
     "text": [
      "too high\n"
     ]
    }
   ],
   "source": [
    "secret = 4\n",
    "guess = 7\n",
    "if guess < secret:\n",
    "    print(\"too low\")\n",
    "elif guess > secret:\n",
    "    print(\"too high\")\n",
    "else:\n",
    "    print(\"just right\")\n"
   ]
  },
  {
   "cell_type": "markdown",
   "id": "ae93591c",
   "metadata": {},
   "source": [
    "4.2 Assign True or False to the variables small and green. Write some if/else statements to print which of these matches those choices: cherry, pea, watermelon, pumpkin. \n",
    "\n",
    "Test for Cherry (green = False and small = True)"
   ]
  },
  {
   "cell_type": "code",
   "execution_count": 16,
   "id": "83916b04",
   "metadata": {},
   "outputs": [
    {
     "name": "stdout",
     "output_type": "stream",
     "text": [
      "cherry\n"
     ]
    }
   ],
   "source": [
    "green = False\n",
    "small = True \n",
    "if small == False and green == True:\n",
    "    print(\"watermelon\")\n",
    "elif small == False and green == False:\n",
    "    print(\"Pumpkin\")\n",
    "elif small == True and green == True:\n",
    "    print(\"Pea\")\n",
    "else:\n",
    "    print(\"cherry\")"
   ]
  },
  {
   "cell_type": "markdown",
   "id": "ad2d27e9",
   "metadata": {},
   "source": [
    "test for Watermelon (green = True and small = False)"
   ]
  },
  {
   "cell_type": "code",
   "execution_count": 17,
   "id": "2438a762",
   "metadata": {
    "scrolled": true
   },
   "outputs": [
    {
     "name": "stdout",
     "output_type": "stream",
     "text": [
      "watermelon\n"
     ]
    }
   ],
   "source": [
    "green = True\n",
    "small = False\n",
    "if small == False and green == True:\n",
    "    print(\"watermelon\")\n",
    "elif small == False and green == False:\n",
    "    print(\"Pumpkin\")\n",
    "elif small == True and green == True:\n",
    "    print(\"Pea\")\n",
    "else:\n",
    "    print(\"cherry\")"
   ]
  },
  {
   "cell_type": "markdown",
   "id": "3cc2f12a",
   "metadata": {},
   "source": [
    "Test for Pumpkin (green = False and Small = False)"
   ]
  },
  {
   "cell_type": "code",
   "execution_count": 18,
   "id": "b9bc805f",
   "metadata": {},
   "outputs": [
    {
     "name": "stdout",
     "output_type": "stream",
     "text": [
      "Pumpkin\n"
     ]
    }
   ],
   "source": [
    "green = False\n",
    "small = False\n",
    "if small == False and green == True:\n",
    "    print(\"watermelon\")\n",
    "elif small == False and green == False:\n",
    "    print(\"Pumpkin\")\n",
    "elif small == True and green == True:\n",
    "    print(\"Pea\")\n",
    "else:\n",
    "    print(\"cherry\")"
   ]
  },
  {
   "cell_type": "markdown",
   "id": "d4e1cdaa",
   "metadata": {},
   "source": [
    "Test for Pea (green = True and small = True)"
   ]
  },
  {
   "cell_type": "code",
   "execution_count": 19,
   "id": "fedb24ae",
   "metadata": {},
   "outputs": [
    {
     "name": "stdout",
     "output_type": "stream",
     "text": [
      "Pea\n"
     ]
    }
   ],
   "source": [
    "green = True\n",
    "small = True\n",
    "if small == False and green == True:\n",
    "    print(\"watermelon\")\n",
    "elif small == False and green == False:\n",
    "    print(\"Pumpkin\")\n",
    "elif small == True and green == True:\n",
    "    print(\"Pea\")\n",
    "else:\n",
    "    print(\"cherry\")"
   ]
  },
  {
   "cell_type": "markdown",
   "id": "2f1f0237",
   "metadata": {},
   "source": [
    "6.1 Use a for loop to print the values of the list [3, 2, 1, 0]."
   ]
  },
  {
   "cell_type": "code",
   "execution_count": 25,
   "id": "e11274fa",
   "metadata": {},
   "outputs": [
    {
     "name": "stdout",
     "output_type": "stream",
     "text": [
      "3\n",
      "2\n",
      "1\n",
      "0\n"
     ]
    },
    {
     "data": {
      "text/plain": [
       "[3, 2, 1, 0]"
      ]
     },
     "execution_count": 25,
     "metadata": {},
     "output_type": "execute_result"
    }
   ],
   "source": [
    "for x in range(3,-1,-1):\n",
    "    print(x)\n",
    "    \n",
    "list(range(3,-1,-1))"
   ]
  },
  {
   "cell_type": "markdown",
   "id": "98e842aa",
   "metadata": {},
   "source": [
    "6.2 Assign the value 7 to the variable guess_me, and the value 1 to the variable number. Write a while loop that compares number with guess_me. Print 'too low' if number is less than guess me. If number equals guess_me, print 'found it!' and then exit the loop. If number is greater than guess_me, print 'oops' and then exit the loop. Increment number at the end of the loop."
   ]
  },
  {
   "cell_type": "code",
   "execution_count": 32,
   "id": "32d32b6b",
   "metadata": {},
   "outputs": [
    {
     "name": "stdout",
     "output_type": "stream",
     "text": [
      "too low\n",
      "too low\n",
      "too low\n",
      "too low\n",
      "too low\n",
      "too low\n",
      "found it!\n"
     ]
    }
   ],
   "source": [
    "guess_me = 7\n",
    "number = 1\n",
    "while number <= guess_me:\n",
    "    if number < guess_me:\n",
    "        print(\"too low\")\n",
    "    elif number > guess_me:\n",
    "        print(\"oops\")\n",
    "        break\n",
    "    else:\n",
    "        print(\"found it!\")\n",
    "        break\n",
    "    number +=1"
   ]
  },
  {
   "cell_type": "markdown",
   "id": "748971fe",
   "metadata": {},
   "source": [
    "6.3 Assign the value 5 to the variable guess_me. Use a for loop to iterate a variable called number over range(10). If number is less than guess_me, print 'too low'. If it equals guess_me, print found it! and then break out of the for loop. If number is greater than guess_me, print 'oops' and then exit the loop."
   ]
  },
  {
   "cell_type": "code",
   "execution_count": 41,
   "id": "d30366c1",
   "metadata": {},
   "outputs": [
    {
     "name": "stdout",
     "output_type": "stream",
     "text": [
      "too low\n",
      "too low\n",
      "too low\n",
      "too low\n",
      "found it!\n"
     ]
    }
   ],
   "source": [
    "guess_me = 5\n",
    "number = (10)\n",
    "for number in range(1,10):\n",
    "    if number < guess_me:\n",
    "        print(\"too low\")\n",
    "    elif number > guess_me:\n",
    "        print(\"oops\")\n",
    "        break\n",
    "    else:\n",
    "        print(\"found it!\")\n",
    "        break\n",
    "    number += 1"
   ]
  }
 ],
 "metadata": {
  "kernelspec": {
   "display_name": "Python 3 (ipykernel)",
   "language": "python",
   "name": "python3"
  },
  "language_info": {
   "codemirror_mode": {
    "name": "ipython",
    "version": 3
   },
   "file_extension": ".py",
   "mimetype": "text/x-python",
   "name": "python",
   "nbconvert_exporter": "python",
   "pygments_lexer": "ipython3",
   "version": "3.9.13"
  }
 },
 "nbformat": 4,
 "nbformat_minor": 5
}
